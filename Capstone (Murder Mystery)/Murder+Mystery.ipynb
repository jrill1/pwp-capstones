{
 "cells": [
  {
   "cell_type": "markdown",
   "metadata": {},
   "source": [
    "# Preamble: A Brand new Jay\n",
    "\n",
    "After an eventful season on season 8 of *A Brand New Jay*, the 3 remaining contestants were invited to Jay Stacksby's private island for the last three episodes. When the day of filming the finale came Mr. Stacksby was found with one of his Professional Series 8-inch Chef Knives plunged through his heart! After the initial investigation highlighted that the film crew all lived in a separate house on the other side of the island, it was concluded that only the three contestants were near enough to Stacksby in order to commit a crime. At the scene of the crime, a letter was left. Here are the contents of that letter:\n",
    "\n",
    "> You may call me heartless, a killer, a monster, a murderer, but I'm still NOTHING compared to the villian that Jay was. This whole contest was a sham, an elaborate plot to shame the contestants and feed Jay's massive, massive ego. SURE you think you know him! You've seen him smiling for the cameras, laughing, joking, telling stories, waving his money around like a prop but off camera he was a sinister beast, a cruel cruel taskmaster, he treated all of us like slaves, like cattle, like animals! Do you remember Lindsay, she was the first to go, he called her such horrible things that she cried all night, keeping up all up, crying, crying, and more crying, he broke her with his words. I miss my former cast members, all of them very much. And we had to live with him, live in his home, live in his power, deal with his crazy demands. AND FOR WHAT! DID YOU KNOW THAT THE PRIZE ISN'T REAL? He never intended to marry one of us! The carrot on the stick was gone, all that was left was stick, he told us last night that we were all a terrible terrible disappointment and none of us would ever amount to anything, and that regardless of who won the contest he would never speak to any of us again! It's definitely the things like this you can feel in your gut how wrong he is! Well I showed him, he got what he deserved all right, I showed him, I showed him the person I am! I wasn't going to be pushed around any longer, and I wasn't going to let him go on pretending that he was some saint when all he was was a sick sick twisted man who deserved every bit of what he got. The fans need to know, Jay Stacksby is a vile amalgamation of all things evil and bad and the world is a better place without him.\n",
    "\n",
    "Pretty sinister stuff! Luckily, in addition to this bold-faced admission, we have the introduction letters of the three contestants. Maybe there is a way to use this information to determine who the author of this murder letter is?\n",
    "\n",
    "Myrtle Beech's introduction letter:\n",
    "> Salutations. My name? Myrtle. Myrtle Beech. I am a woman of simple tastes. I enjoy reading, thinking, and doing my taxes. I entered this competition because I want a serious relationship. I want a commitment. The last man I dated was too whimsical. He wanted to go on dates that had no plan. No end goal. Sometimes we would just end up wandering the streets after dinner. He called it a \"walk\". A \"walk\" with no destination. Can you imagine? I like every action I take to have a measurable effect. When I see a movie, I like to walk away with insights that I did not have before. When I take a bike ride, there better be a worthy destination at the end of the bike path. Jay seems frivolous at times. This worries me. However, it is my staunch belief that one does not make and keep money without having a modicum of discipline. As such, I am hopeful. I will now list three things I cannot live without. Water. Emery boards. Dogs. Thank you for the opportunity to introduce myself. I look forward to the competition. \n",
    "\n",
    "Lily Trebuchet's introduction letter:\n",
    "> Hi, I'm Lily Trebuchet from East Egg, Long Island. I love cats, hiking, and curling up under a warm blanket with a book. So they gave this little questionnaire to use for our bios so lets get started. What are some of my least favorite household chores? Dishes, oh yes it's definitely the dishes, I just hate doing them, don't you? Who is your favorite actor and why? Hmm, that's a hard one, but I think recently I'll have to go with Michael B. Jordan, every bit of that man is handsome, HANDSOME! Do you remember seeing him shirtless? I can't believe what he does for the cameras! Okay okay next question, what is your perfect date? Well it starts with a nice dinner at a delicious but small restaurant, you know like one of those places where the owner is in the back and comes out to talk to you and ask you how your meal was. My favorite form of art? Another hard one, but I think I'll have to go with music, music you can feel in your whole body and it is electrifying and best of all, you can dance to it! Okay final question, let's see, What are three things you cannot live without? Well first off, my beautiful, beautiful cat Jerry, he is my heart and spirit animal. Second is pasta, definitely pasta, and the third I think is my family, I love all of them very much and they support me in everything I do. I know Jay Stacksby is a handsome man and all of us want to be the first to walk down the aisle with him, but I think he might truly be the one for me. Okay that's it for the bio, I hope you have fun watching the show! \n",
    "\n",
    "Gregg T Fishy's introduction letter:\n",
    "\n",
    "> A most good day to you all, I am Gregg T Fishy, of the Fishy Enterprise fortune. I am 37 years young, an adventurous spirit and I've never lost my sense of childlike wonder. I do love to be in the backyard gardening and I have the most extraordinary time when I'm fishing. Fishing for what, you might find yourself asking? Why, I happen to always be fishing for compliments of course! I have a stunning pair of radiant blue eyes that will pierce the soul of anyone who dare gaze upon my countenance. I quite enjoy going on long jaunts through garden paths and short walks through greenhouses. I hope that Jay will be as absolutely interesting as he appears on the television, I find that he has some of the most curious tastes in style and humor. When I'm out and about I quite enjoy hearing tales that instill in my heart of hearts the fascination that beguiles my every day life, every fiber of my being scintillates and vascillates with extreme pleasure during one of these charming anecdotes and significantly pleases my beautiful personage. I cannot wait to enjoy being on the television program A Jay To Remember, it certainly seems like a grand time to explore life and love."
   ]
  },
  {
   "cell_type": "markdown",
   "metadata": {},
   "source": [
    "## Saving The Different Examples as Variables\n",
    "\n",
    "First let's create variables to hold the text data in! Save the muder note as a string in a variable called `murder_note`. Save Lily Trebuchet's introduction into `lily_trebuchet_intro`. Save Myrtle Beech's introduction into `myrtle_beech_intro`. Save Gregg T Fishy's introduction into `gregg_t_fishy_intro`."
   ]
  },
  {
   "cell_type": "code",
   "execution_count": 69,
   "metadata": {},
   "outputs": [],
   "source": [
    "murder_note = \"You may call me heartless, a killer, a monster, a murderer, but I'm still NOTHING compared to the villian that Jay was. This whole contest was a sham, an elaborate plot to shame the contestants and feed Jay's massive, massive ego. SURE you think you know him! You've seen him smiling for the cameras, laughing, joking, telling stories, waving his money around like a prop but off camera he was a sinister beast, a cruel cruel taskmaster, he treated all of us like slaves, like cattle, like animals! Do you remember Lindsay, she was the first to go, he called her such horrible things that she cried all night, keeping up all up, crying, crying, and more crying, he broke her with his words. I miss my former cast members, all of them very much. And we had to live with him, live in his home, live in his power, deal with his crazy demands. AND FOR WHAT! DID YOU KNOW THAT THE PRIZE ISN'T REAL? He never intended to marry one of us! The carrot on the stick was gone, all that was left was stick, he told us last night that we were all a terrible terrible disappointment and none of us would ever amount to anything, and that regardless of who won the contest he would never speak to any of us again! It's definitely the things like this you can feel in your gut how wrong he is! Well I showed him, he got what he deserved all right, I showed him, I showed him the person I am! I wasn't going to be pushed around any longer, and I wasn't going to let him go on pretending that he was some saint when all he was was a sick sick twisted man who deserved every bit of what he got. The fans need to know, Jay Stacksby is a vile amalgamation of all things evil and bad and the world is a better place without him.\"\n",
    "\n",
    "myrtle_beech_intro = \"Salutations. My name? Myrtle. Myrtle Beech. I am a woman of simple tastes. I enjoy reading, thinking, and doing my taxes. I entered this competition because I want a serious relationship. I want a commitment. The last man I dated was too whimsical. He wanted to go on dates that had no plan. No end goal. Sometimes we would just end up wandering the streets after dinner. He called it a \\\"walk\\\". A \\\"walk\\\" with no destination. Can you imagine? I like every action I take to have a measurable effect. When I see a movie, I like to walk away with insights that I did not have before. When I take a bike ride, there better be a worthy destination at the end of the bike path. Jay seems frivolous at times. This worries me. However, it is my staunch belief that one does not make and keep money without having a modicum of discipline. As such, I am hopeful. I will now list three things I cannot live without. Water. Emery boards. Dogs. Thank you for the opportunity to introduce myself. I look forward to the competition.\"\n",
    "\n",
    "lily_trebuchet_intro = \"Hi, I'm Lily Trebuchet from East Egg, Long Island. I love cats, hiking, and curling up under a warm blanket with a book. So they gave this little questionnaire to use for our bios so lets get started. What are some of my least favorite household chores? Dishes, oh yes it's definitely the dishes, I just hate doing them, don't you? Who is your favorite actor and why? Hmm, that's a hard one, but I think recently I'll have to go with Michael B. Jordan, every bit of that man is handsome, HANDSOME! Do you remember seeing him shirtless? I can't believe what he does for the cameras! Okay okay next question, what is your perfect date? Well it starts with a nice dinner at a delicious but small restaurant, you know like one of those places where the owner is in the back and comes out to talk to you and ask you how your meal was. My favorite form of art? Another hard one, but I think I'll have to go with music, music you can feel in your whole body and it is electrifying and best of all, you can dance to it! Okay final question, let's see, What are three things you cannot live without? Well first off, my beautiful, beautiful cat Jerry, he is my heart and spirit animal. Second is pasta, definitely pasta, and the third I think is my family, I love all of them very much and they support me in everything I do. I know Jay Stacksby is a handsome man and all of us want to be the first to walk down the aisle with him, but I think he might truly be the one for me. Okay that's it for the bio, I hope you have fun watching the show!\"\n",
    "\n",
    "gregg_t_fishy_intro = \"A most good day to you all, I am Gregg T Fishy, of the Fishy Enterprise fortune. I am 37 years young, an adventurous spirit and I've never lost my sense of childlike wonder. I do love to be in the backyard gardening and I have the most extraordinary time when I'm fishing. Fishing for what, you might find yourself asking? Why, I happen to always be fishing for compliments of course! I have a stunning pair of radiant blue eyes that will pierce the soul of anyone who dare gaze upon my countenance. I quite enjoy going on long jaunts through garden paths and short walks through greenhouses. I hope that Jay will be as absolutely interesting as he appears on the television, I find that he has some of the most curious tastes in style and humor. When I'm out and about I quite enjoy hearing tales that instill in my heart of hearts the fascination that beguiles my every day life, every fiber of my being scintillates and vascillates with extreme pleasure during one of these charming anecdotes and significantly pleases my beautiful personage. I cannot wait to enjoy being on the television program A Jay To Remember, it certainly seems like a grand time to explore life and love.\""
   ]
  },
  {
   "cell_type": "markdown",
   "metadata": {},
   "source": [
    "## The First Indicator: Sentence Length\n",
    "\n",
    "Perhaps some meaningful data can first be gleaned from these text examples if we measure how long the average sentence length is. Different authors have different patterns of written speech, so this could be very useful in tracking down the killer.\n",
    "\n",
    "Write a function `get_average_sentence_length` that takes some `text` as an argument. This function should return the average length of a sentence in the text.\n",
    "\n",
    "Hint (highlight this hint in order to reveal it): \n",
    "<font color=\"white\">Use your knowledge of _string methods_ to create a list of all of the sentences in a text, called **sentences_in_text**. \n",
    "Further break up each **sentences_in_text** into a list of words and save the _length_ of that list of words to a new list that contains all the sentence lengths, called **sentence_lengths**. Take the average of all of the sentence lengths by adding them all together and dividing by the number of sentences (which should be the same as the length of the **sentence_lengths**).\n",
    "\n",
    "Remember sentences can end with more than one kind of punctuation, you might find it easiest to use **.replace()** so you only have to split on one punctuation mark. Remember **.replace()** doesn't modify the string itself, it returns a new string!</font>"
   ]
  },
  {
   "cell_type": "code",
   "execution_count": 70,
   "metadata": {},
   "outputs": [
    {
     "name": "stdout",
     "output_type": "stream",
     "text": [
      "[\"You may call me heartless, a killer, a monster, a murderer, but I'm still NOTHING compared to the villian that Jay was\", \" This whole contest was a sham, an elaborate plot to shame the contestants and feed Jay's massive, massive ego\", ' SURE you think you know him', \" You've seen him smiling for the cameras, laughing, joking, telling stories, waving his money around like a prop but off camera he was a sinister beast, a cruel cruel taskmaster, he treated all of us like slaves, like cattle, like animals\", ' Do you remember Lindsay, she was the first to go, he called her such horrible things that she cried all night, keeping up all up, crying, crying, and more crying, he broke her with his words', ' I miss my former cast members, all of them very much', ' And we had to live with him, live in his home, live in his power, deal with his crazy demands', ' AND FOR WHAT', \" DID YOU KNOW THAT THE PRIZE ISN'T REAL\", ' He never intended to marry one of us', ' The carrot on the stick was gone, all that was left was stick, he told us last night that we were all a terrible terrible disappointment and none of us would ever amount to anything, and that regardless of who won the contest he would never speak to any of us again', \" It's definitely the things like this you can feel in your gut how wrong he is\", ' Well I showed him, he got what he deserved all right, I showed him, I showed him the person I am', \" I wasn't going to be pushed around any longer, and I wasn't going to let him go on pretending that he was some saint when all he was was a sick sick twisted man who deserved every bit of what he got\", ' The fans need to know, Jay Stacksby is a vile amalgamation of all things evil and bad and the world is a better place without him']\n"
     ]
    },
    {
     "data": {
      "text/plain": [
       "22.066666666666666"
      ]
     },
     "execution_count": 70,
     "metadata": {},
     "output_type": "execute_result"
    }
   ],
   "source": [
    "def get_average_sentence_length(text):\n",
    "    text_sentences = text.replace('?','.').replace('!','.').split('.')\n",
    "    new_text_sentences = text_sentences.pop(-1)\n",
    "    print(text_sentences)\n",
    "    total_words = 0\n",
    "    for i in text_sentences:\n",
    "        text_sentences_list = i.split()\n",
    "        total_words += len(text_sentences_list)\n",
    "    average_sentence_length = total_words / len(text_sentences)\n",
    "    return average_sentence_length\n",
    "    \n",
    "get_average_sentence_length(murder_note)    "
   ]
  },
  {
   "cell_type": "markdown",
   "metadata": {},
   "source": [
    "## Creating The Definition for Our Model\n",
    "\n",
    "Now that we have a metric we want to save and data that is coupled with that metric, it might be time to create our data type. Let's define a class called `TextSample` with a constructor. The constructor should take two arguments: `text` and `author`. `text` should be saved as `self.raw_text`. Call `get_average_sentence_length` with the raw text and save it to `self.average_sentence_length`. You should save the author of the text as `self.author`.\n",
    "\n",
    "Additionally, define a string representation for the model. If you print a `TextSample` it should render:\n",
    " - The author's name\n",
    " - The average sentence length\n",
    " \n",
    "This will be your main class for the problem at hand. All later instruction to update `TextSample` should be done in the code block below. After updating `TextSample`, click on the `Cell` option in the Jupyter Notebook main menu above, then click `Run All` to rerun the cells from top to bottom. If you need to restart your Jupyter Notebook either run the cells below first or move the `TextSample` class definition & instantiation cells to the bottom."
   ]
  },
  {
   "cell_type": "code",
   "execution_count": 72,
   "metadata": {},
   "outputs": [],
   "source": [
    "class TextSample:\n",
    "    def __init__(self, text, author):\n",
    "        self.raw_text = text\n",
    "        self.average_sentence_length = get_average_sentence_length(self.raw_text)\n",
    "        self.author = author\n",
    "        self.prepared_text = prepare_text(self.raw_text)\n",
    "        self.word_count_frequency = build_frequency_table(self.prepared_text)\n",
    "        self.ngram_frequency = build_frequency_table(ngram_creator(self.prepared_text))\n",
    "    def __repr__(self):\n",
    "        return \"Author: {} \\nAverage sentence length: {}\\n\".format(self.author, self.average_sentence_length)"
   ]
  },
  {
   "cell_type": "markdown",
   "metadata": {},
   "source": [
    "### Creating our TextSample Instances\n",
    "\n",
    "Now create a `TextSample` object for each of the samples of text that we have.\n",
    " - `murderer_sample` for the murderer's note.\n",
    " - `lily_sample` for Lily Trebuchet's note.\n",
    " - `myrtle_sample` for Myrtle Beech's note.\n",
    " - `gregg_sample` for Gregg T Fishy's note.\n",
    " \n",
    "Print out each one after instantiating them."
   ]
  },
  {
   "cell_type": "code",
   "execution_count": 73,
   "metadata": {},
   "outputs": [
    {
     "name": "stdout",
     "output_type": "stream",
     "text": [
      "[\"You may call me heartless, a killer, a monster, a murderer, but I'm still NOTHING compared to the villian that Jay was\", \" This whole contest was a sham, an elaborate plot to shame the contestants and feed Jay's massive, massive ego\", ' SURE you think you know him', \" You've seen him smiling for the cameras, laughing, joking, telling stories, waving his money around like a prop but off camera he was a sinister beast, a cruel cruel taskmaster, he treated all of us like slaves, like cattle, like animals\", ' Do you remember Lindsay, she was the first to go, he called her such horrible things that she cried all night, keeping up all up, crying, crying, and more crying, he broke her with his words', ' I miss my former cast members, all of them very much', ' And we had to live with him, live in his home, live in his power, deal with his crazy demands', ' AND FOR WHAT', \" DID YOU KNOW THAT THE PRIZE ISN'T REAL\", ' He never intended to marry one of us', ' The carrot on the stick was gone, all that was left was stick, he told us last night that we were all a terrible terrible disappointment and none of us would ever amount to anything, and that regardless of who won the contest he would never speak to any of us again', \" It's definitely the things like this you can feel in your gut how wrong he is\", ' Well I showed him, he got what he deserved all right, I showed him, I showed him the person I am', \" I wasn't going to be pushed around any longer, and I wasn't going to let him go on pretending that he was some saint when all he was was a sick sick twisted man who deserved every bit of what he got\", ' The fans need to know, Jay Stacksby is a vile amalgamation of all things evil and bad and the world is a better place without him']\n",
      "Author: Murderer \n",
      "Average sentence length: 22.066666666666666\n",
      "\n",
      "[\"Hi, I'm Lily Trebuchet from East Egg, Long Island\", ' I love cats, hiking, and curling up under a warm blanket with a book', ' So they gave this little questionnaire to use for our bios so lets get started', ' What are some of my least favorite household chores', \" Dishes, oh yes it's definitely the dishes, I just hate doing them, don't you\", ' Who is your favorite actor and why', \" Hmm, that's a hard one, but I think recently I'll have to go with Michael B\", ' Jordan, every bit of that man is handsome, HANDSOME', ' Do you remember seeing him shirtless', \" I can't believe what he does for the cameras\", ' Okay okay next question, what is your perfect date', ' Well it starts with a nice dinner at a delicious but small restaurant, you know like one of those places where the owner is in the back and comes out to talk to you and ask you how your meal was', ' My favorite form of art', \" Another hard one, but I think I'll have to go with music, music you can feel in your whole body and it is electrifying and best of all, you can dance to it\", \" Okay final question, let's see, What are three things you cannot live without\", ' Well first off, my beautiful, beautiful cat Jerry, he is my heart and spirit animal', ' Second is pasta, definitely pasta, and the third I think is my family, I love all of them very much and they support me in everything I do', ' I know Jay Stacksby is a handsome man and all of us want to be the first to walk down the aisle with him, but I think he might truly be the one for me', \" Okay that's it for the bio, I hope you have fun watching the show\"]\n",
      "Author: Lily Trebuchet \n",
      "Average sentence length: 15.842105263157896\n",
      "\n",
      "['Salutations', ' My name', ' Myrtle', ' Myrtle Beech', ' I am a woman of simple tastes', ' I enjoy reading, thinking, and doing my taxes', ' I entered this competition because I want a serious relationship', ' I want a commitment', ' The last man I dated was too whimsical', ' He wanted to go on dates that had no plan', ' No end goal', ' Sometimes we would just end up wandering the streets after dinner', ' He called it a \"walk\"', ' A \"walk\" with no destination', ' Can you imagine', ' I like every action I take to have a measurable effect', ' When I see a movie, I like to walk away with insights that I did not have before', ' When I take a bike ride, there better be a worthy destination at the end of the bike path', ' Jay seems frivolous at times', ' This worries me', ' However, it is my staunch belief that one does not make and keep money without having a modicum of discipline', ' As such, I am hopeful', ' I will now list three things I cannot live without', ' Water', ' Emery boards', ' Dogs', ' Thank you for the opportunity to introduce myself', ' I look forward to the competition']\n",
      "Author: Myrtle Beech \n",
      "Average sentence length: 6.75\n",
      "\n",
      "['A most good day to you all, I am Gregg T Fishy, of the Fishy Enterprise fortune', \" I am 37 years young, an adventurous spirit and I've never lost my sense of childlike wonder\", \" I do love to be in the backyard gardening and I have the most extraordinary time when I'm fishing\", ' Fishing for what, you might find yourself asking', ' Why, I happen to always be fishing for compliments of course', ' I have a stunning pair of radiant blue eyes that will pierce the soul of anyone who dare gaze upon my countenance', ' I quite enjoy going on long jaunts through garden paths and short walks through greenhouses', ' I hope that Jay will be as absolutely interesting as he appears on the television, I find that he has some of the most curious tastes in style and humor', \" When I'm out and about I quite enjoy hearing tales that instill in my heart of hearts the fascination that beguiles my every day life, every fiber of my being scintillates and vascillates with extreme pleasure during one of these charming anecdotes and significantly pleases my beautiful personage\", ' I cannot wait to enjoy being on the television program A Jay To Remember, it certainly seems like a grand time to explore life and love']\n",
      "Author: Gregg T Fishy \n",
      "Average sentence length: 21.3\n",
      "\n"
     ]
    }
   ],
   "source": [
    "murderer_sample = TextSample(murder_note,\"Murderer\")\n",
    "print(murderer_sample)\n",
    "\n",
    "lily_sample = TextSample(lily_trebuchet_intro,\"Lily Trebuchet\")\n",
    "print(lily_sample)\n",
    "\n",
    "myrtle_sample = TextSample(myrtle_beech_intro,\"Myrtle Beech\")\n",
    "print(myrtle_sample)\n",
    "\n",
    "gregg_sample = TextSample(gregg_t_fishy_intro,\"Gregg T Fishy\")\n",
    "print(gregg_sample)"
   ]
  },
  {
   "cell_type": "markdown",
   "metadata": {},
   "source": [
    "## Cleaning Our Data\n",
    "\n",
    "We want to compare the word choice and usage between the samples, but sentences make our text data fairly messy. In order to analyze the different messages fairly, we'll need to remove all the punctuation and uppercase letters from the samples.\n",
    "\n",
    "Create a function called `prepare_text` that takes a single parameter `text`, makes the text entirely lowercase, removes all the punctuation and returns a list of the words in the text in order.\n",
    "\n",
    "For example: `\"Where did you go, friend? We nearly saw each other.\"` would become `['where', 'did', 'you', 'go', 'friend', 'we', 'nearly', 'saw', 'each', 'other']`."
   ]
  },
  {
   "cell_type": "code",
   "execution_count": 74,
   "metadata": {},
   "outputs": [
    {
     "name": "stdout",
     "output_type": "stream",
     "text": [
      "['you', 'may', 'call', 'me', 'heartless', 'a', 'killer', 'a', 'monster', 'a', 'murderer', 'but', \"i'm\", 'still', 'nothing', 'compared', 'to', 'the', 'villian', 'that', 'jay', 'was', 'this', 'whole', 'contest', 'was', 'a', 'sham', 'an', 'elaborate', 'plot', 'to', 'shame', 'the', 'contestants', 'and', 'feed', \"jay's\", 'massive', 'massive', 'ego', 'sure', 'you', 'think', 'you', 'know', 'him', \"you've\", 'seen', 'him', 'smiling', 'for', 'the', 'cameras', 'laughing', 'joking', 'telling', 'stories', 'waving', 'his', 'money', 'around', 'like', 'a', 'prop', 'but', 'off', 'camera', 'he', 'was', 'a', 'sinister', 'beast', 'a', 'cruel', 'cruel', 'taskmaster', 'he', 'treated', 'all', 'of', 'us', 'like', 'slaves', 'like', 'cattle', 'like', 'animals', 'do', 'you', 'remember', 'lindsay', 'she', 'was', 'the', 'first', 'to', 'go', 'he', 'called', 'her', 'such', 'horrible', 'things', 'that', 'she', 'cried', 'all', 'night', 'keeping', 'up', 'all', 'up', 'crying', 'crying', 'and', 'more', 'crying', 'he', 'broke', 'her', 'with', 'his', 'words', 'i', 'miss', 'my', 'former', 'cast', 'members', 'all', 'of', 'them', 'very', 'much', 'and', 'we', 'had', 'to', 'live', 'with', 'him', 'live', 'in', 'his', 'home', 'live', 'in', 'his', 'power', 'deal', 'with', 'his', 'crazy', 'demands', 'and', 'for', 'what', 'did', 'you', 'know', 'that', 'the', 'prize', \"isn't\", 'real', 'he', 'never', 'intended', 'to', 'marry', 'one', 'of', 'us', 'the', 'carrot', 'on', 'the', 'stick', 'was', 'gone', 'all', 'that', 'was', 'left', 'was', 'stick', 'he', 'told', 'us', 'last', 'night', 'that', 'we', 'were', 'all', 'a', 'terrible', 'terrible', 'disappointment', 'and', 'none', 'of', 'us', 'would', 'ever', 'amount', 'to', 'anything', 'and', 'that', 'regardless', 'of', 'who', 'won', 'the', 'contest', 'he', 'would', 'never', 'speak', 'to', 'any', 'of', 'us', 'again', \"it's\", 'definitely', 'the', 'things', 'like', 'this', 'you', 'can', 'feel', 'in', 'your', 'gut', 'how', 'wrong', 'he', 'is', 'well', 'i', 'showed', 'him', 'he', 'got', 'what', 'he', 'deserved', 'all', 'right', 'i', 'showed', 'him', 'i', 'showed', 'him', 'the', 'person', 'i', 'am', 'i', \"wasn't\", 'going', 'to', 'be', 'pushed', 'around', 'any', 'longer', 'and', 'i', \"wasn't\", 'going', 'to', 'let', 'him', 'go', 'on', 'pretending', 'that', 'he', 'was', 'some', 'saint', 'when', 'all', 'he', 'was', 'was', 'a', 'sick', 'sick', 'twisted', 'man', 'who', 'deserved', 'every', 'bit', 'of', 'what', 'he', 'got', 'the', 'fans', 'need', 'to', 'know', 'jay', 'stacksby', 'is', 'a', 'vile', 'amalgamation', 'of', 'all', 'things', 'evil', 'and', 'bad', 'and', 'the', 'world', 'is', 'a', 'better', 'place', 'without', 'him']\n"
     ]
    }
   ],
   "source": [
    "def prepare_text(text):\n",
    "    lowercase_text = text.lower()\n",
    "    stripped_text = lowercase_text.replace(\".\",\"\").replace(\"!\",\"\").replace(\"?\",\"\").replace(\",\",\"\")\n",
    "    cleaned_text = stripped_text.split()\n",
    "    return cleaned_text\n",
    "    \n",
    "print(prepare_text(murder_note))"
   ]
  },
  {
   "cell_type": "markdown",
   "metadata": {},
   "source": [
    "Update the constructor for `TextSample` to save the prepared text as `self.prepared_text`."
   ]
  },
  {
   "cell_type": "markdown",
   "metadata": {},
   "source": [
    "## Building A Frequency Table\n",
    "\n",
    "Now we want to see which words were most frequently used in each of the samples. Create a function called `build_frequency_table`. It takes in a list called `corpus` and creates a dictionary called `frequency_table`. For every element in `corpus` the value `frequency_table[element]` should be equal to the number of times that element appears in `corpus`. For example the input `['do', 'you', 'see', 'what', 'i', 'see']` would create the frequency table `{'what': 1, 'you': 1, 'see' 2, 'i': 1}`."
   ]
  },
  {
   "cell_type": "code",
   "execution_count": 75,
   "metadata": {},
   "outputs": [
    {
     "data": {
      "text/plain": [
       "{'you': 6,\n",
       " 'may': 1,\n",
       " 'call': 1,\n",
       " 'me': 1,\n",
       " 'heartless': 1,\n",
       " 'a': 11,\n",
       " 'killer': 1,\n",
       " 'monster': 1,\n",
       " 'murderer': 1,\n",
       " 'but': 2,\n",
       " \"i'm\": 1,\n",
       " 'still': 1,\n",
       " 'nothing': 1,\n",
       " 'compared': 1,\n",
       " 'to': 10,\n",
       " 'the': 12,\n",
       " 'villian': 1,\n",
       " 'that': 7,\n",
       " 'jay': 2,\n",
       " 'was': 10,\n",
       " 'this': 2,\n",
       " 'whole': 1,\n",
       " 'contest': 2,\n",
       " 'sham': 1,\n",
       " 'an': 1,\n",
       " 'elaborate': 1,\n",
       " 'plot': 1,\n",
       " 'shame': 1,\n",
       " 'contestants': 1,\n",
       " 'and': 9,\n",
       " 'feed': 1,\n",
       " \"jay's\": 1,\n",
       " 'massive': 2,\n",
       " 'ego': 1,\n",
       " 'sure': 1,\n",
       " 'think': 1,\n",
       " 'know': 3,\n",
       " 'him': 8,\n",
       " \"you've\": 1,\n",
       " 'seen': 1,\n",
       " 'smiling': 1,\n",
       " 'for': 2,\n",
       " 'cameras': 1,\n",
       " 'laughing': 1,\n",
       " 'joking': 1,\n",
       " 'telling': 1,\n",
       " 'stories': 1,\n",
       " 'waving': 1,\n",
       " 'his': 5,\n",
       " 'money': 1,\n",
       " 'around': 2,\n",
       " 'like': 5,\n",
       " 'prop': 1,\n",
       " 'off': 1,\n",
       " 'camera': 1,\n",
       " 'he': 13,\n",
       " 'sinister': 1,\n",
       " 'beast': 1,\n",
       " 'cruel': 2,\n",
       " 'taskmaster': 1,\n",
       " 'treated': 1,\n",
       " 'all': 9,\n",
       " 'of': 8,\n",
       " 'us': 5,\n",
       " 'slaves': 1,\n",
       " 'cattle': 1,\n",
       " 'animals': 1,\n",
       " 'do': 1,\n",
       " 'remember': 1,\n",
       " 'lindsay': 1,\n",
       " 'she': 2,\n",
       " 'first': 1,\n",
       " 'go': 2,\n",
       " 'called': 1,\n",
       " 'her': 2,\n",
       " 'such': 1,\n",
       " 'horrible': 1,\n",
       " 'things': 3,\n",
       " 'cried': 1,\n",
       " 'night': 2,\n",
       " 'keeping': 1,\n",
       " 'up': 2,\n",
       " 'crying': 3,\n",
       " 'more': 1,\n",
       " 'broke': 1,\n",
       " 'with': 3,\n",
       " 'words': 1,\n",
       " 'i': 7,\n",
       " 'miss': 1,\n",
       " 'my': 1,\n",
       " 'former': 1,\n",
       " 'cast': 1,\n",
       " 'members': 1,\n",
       " 'them': 1,\n",
       " 'very': 1,\n",
       " 'much': 1,\n",
       " 'we': 2,\n",
       " 'had': 1,\n",
       " 'live': 3,\n",
       " 'in': 3,\n",
       " 'home': 1,\n",
       " 'power': 1,\n",
       " 'deal': 1,\n",
       " 'crazy': 1,\n",
       " 'demands': 1,\n",
       " 'what': 3,\n",
       " 'did': 1,\n",
       " 'prize': 1,\n",
       " \"isn't\": 1,\n",
       " 'real': 1,\n",
       " 'never': 2,\n",
       " 'intended': 1,\n",
       " 'marry': 1,\n",
       " 'one': 1,\n",
       " 'carrot': 1,\n",
       " 'on': 2,\n",
       " 'stick': 2,\n",
       " 'gone': 1,\n",
       " 'left': 1,\n",
       " 'told': 1,\n",
       " 'last': 1,\n",
       " 'were': 1,\n",
       " 'terrible': 2,\n",
       " 'disappointment': 1,\n",
       " 'none': 1,\n",
       " 'would': 2,\n",
       " 'ever': 1,\n",
       " 'amount': 1,\n",
       " 'anything': 1,\n",
       " 'regardless': 1,\n",
       " 'who': 2,\n",
       " 'won': 1,\n",
       " 'speak': 1,\n",
       " 'any': 2,\n",
       " 'again': 1,\n",
       " \"it's\": 1,\n",
       " 'definitely': 1,\n",
       " 'can': 1,\n",
       " 'feel': 1,\n",
       " 'your': 1,\n",
       " 'gut': 1,\n",
       " 'how': 1,\n",
       " 'wrong': 1,\n",
       " 'is': 3,\n",
       " 'well': 1,\n",
       " 'showed': 3,\n",
       " 'got': 2,\n",
       " 'deserved': 2,\n",
       " 'right': 1,\n",
       " 'person': 1,\n",
       " 'am': 1,\n",
       " \"wasn't\": 2,\n",
       " 'going': 2,\n",
       " 'be': 1,\n",
       " 'pushed': 1,\n",
       " 'longer': 1,\n",
       " 'let': 1,\n",
       " 'pretending': 1,\n",
       " 'some': 1,\n",
       " 'saint': 1,\n",
       " 'when': 1,\n",
       " 'sick': 2,\n",
       " 'twisted': 1,\n",
       " 'man': 1,\n",
       " 'every': 1,\n",
       " 'bit': 1,\n",
       " 'fans': 1,\n",
       " 'need': 1,\n",
       " 'stacksby': 1,\n",
       " 'vile': 1,\n",
       " 'amalgamation': 1,\n",
       " 'evil': 1,\n",
       " 'bad': 1,\n",
       " 'world': 1,\n",
       " 'better': 1,\n",
       " 'place': 1,\n",
       " 'without': 1}"
      ]
     },
     "execution_count": 75,
     "metadata": {},
     "output_type": "execute_result"
    }
   ],
   "source": [
    "def build_frequency_table(corpus):\n",
    "    frequency_table = {}\n",
    "    for i in corpus:\n",
    "        if i not in frequency_table:\n",
    "            frequency_table[i] = 1\n",
    "        else:\n",
    "            frequency_table[i] += 1\n",
    "    return frequency_table\n",
    "\n",
    "build_frequency_table(murderer_sample.prepared_text)\n",
    "            "
   ]
  },
  {
   "cell_type": "markdown",
   "metadata": {},
   "source": [
    "## The Second Indicator: Favorite Words\n",
    "\n",
    "Use `build_frequency_table` with the prepared text to create a frequency table that counts how frequently all the words in each text sample appears. Call these functions in the constructor for `TextSample` and assign the word frequency table to a value called `self.word_count_frequency`."
   ]
  },
  {
   "cell_type": "markdown",
   "metadata": {},
   "source": [
    "## The Third Indicator: N-Grams\n",
    "\n",
    "An <a href='https://en.wikipedia.org/wiki/N-gram' target=\"_blank\">n-gram</a> is a text analysis technique used for pattern recognition and applicable throughout lingusitics. We're going to use n-grams to find who uses similar word-pairs to the murderer, and we think it's going to make our evidence strong enough to conclusively find the killer.\n",
    "\n",
    "Create a function called `ngram_creator` that takes a parameter `text_list`, a treated in-order list of the words in a text sample. `ngram_creator` should return a list of all adjacent pairs of words, styled as strings with a space in the center.\n",
    "\n",
    "For instance, calling `ngram_creator` with the input `['what', 'in', 'the', 'world', 'is', 'going', 'on']`\n",
    "Should produce the output `['what in', 'in the', 'the world', 'world is', 'is going', 'going on']`.\n",
    "\n",
    "These are two-word n-grams."
   ]
  },
  {
   "cell_type": "code",
   "execution_count": 76,
   "metadata": {},
   "outputs": [],
   "source": [
    "def ngram_creator(text_list):\n",
    "    ngram_list = []\n",
    "    text_list_range = range(len(text_list)-1)\n",
    "    for i in text_list_range:\n",
    "        ngram = text_list[i] + \" \" + text_list[i+1]\n",
    "        ngram_list.append(ngram)\n",
    "    return ngram_list\n",
    "\n",
    "#print(build_frequency_table(ngram_creator(prepare_text(murder_note))))\n",
    "#print(gregg_sample.ngram_frequency)\n",
    "#print(murderer_sample.ngram_frequency)"
   ]
  },
  {
   "cell_type": "markdown",
   "metadata": {},
   "source": [
    "Use `ngram_creator` along with the prepared text to create a list of all the two-word ngrams in each `TextSample`. Use `build_frequency_table` to tabulate the frequency of each ngram. In the constructor for `TextSample` save this frequency table as `self.ngram_frequency`."
   ]
  },
  {
   "cell_type": "markdown",
   "metadata": {},
   "source": [
    "## Comparing Two Frequency Tables\n",
    "\n",
    "We want to know how similar two frequency tables are, let's write a function that computes the comparison between two frequency tables and scores them based on similarity.\n",
    "\n",
    "Write a function called `frequency_comparison` that takes two parameters, `table1` and `table2`. It should define two local variables, `appearances` and `mutual_appearances`. \n",
    "\n",
    "Iterate through `table1`'s keys and check if `table2` has the same key defined. If it is, compare the two values for the key -- the smaller value should get added to `mutual_appearances` and the larger should get added to `appearances`. If the key doesn't exist in `table2` the value for the key in `table1` should be added to `appearances`.\n",
    "\n",
    "Remember afterwards to iterate through all of `table2`'s keys that aren't in `table1` and add those to `appearances` as well.\n",
    "\n",
    "Return a frequency comparison score equal to the mutual appearances divided by the total appearances."
   ]
  },
  {
   "cell_type": "code",
   "execution_count": 77,
   "metadata": {},
   "outputs": [],
   "source": [
    "def frequency_comparison(table1, table2):\n",
    "    appearances = {}\n",
    "    mutual_appearances = {}\n",
    "    for i in table1:\n",
    "        for j in table2:\n",
    "            if i == j:\n",
    "                #print(\"in common = \" + i)\n",
    "                if table1.get(i) <= table2.get(j):\n",
    "                    mutual_appearances.update({i: table1.get(i)})\n",
    "                    appearances.update({j: table2.get(j)})\n",
    "                elif table2.get(j) < table1.get(i):\n",
    "                    mutual_appearances.update({j: table2.get(j)})\n",
    "                    appearances.update({i: table1.get(i)})\n",
    "    for i in table1:\n",
    "        if i not in appearances:\n",
    "            #print(\"not in common = \" + i + \" (from table1)\")\n",
    "            appearances.update({i: table1.get(i)})\n",
    "    for j in table2:\n",
    "        if j not in appearances:\n",
    "            #print(\"not in common = \" + j + \" (from table2)\")\n",
    "            appearances.update({j: table2.get(j)})\n",
    "    return sum(list(mutual_appearances.values())) / sum(list(appearances.values()))\n",
    "                \n",
    "#print(frequency_comparison(murderer_sample.word_count_frequency,myrtle_sample.word_count_frequency))\n",
    "#print(frequency_comparison(murderer_sample.ngram_frequency,myrtle_sample.ngram_frequency))\n",
    "#print(\"\")\n",
    "#print(frequency_comparison(murderer_sample.word_count_frequency,lily_sample.word_count_frequency))\n",
    "#print(frequency_comparison(murderer_sample.ngram_frequency,lily_sample.ngram_frequency))\n",
    "#print(\"\")\n",
    "#print(frequency_comparison(murderer_sample.word_count_frequency,gregg_sample.word_count_frequency))\n",
    "#print(frequency_comparison(murderer_sample.ngram_frequency,gregg_sample.ngram_frequency))\n",
    "#print(\"\")"
   ]
  },
  {
   "cell_type": "markdown",
   "metadata": {},
   "source": [
    "## Comparing Average Sentence Length\n",
    "\n",
    "In order to calculate the change between the average sentence lengths of two `TextSamples` we're going to use the formula for the percent difference.\n",
    "\n",
    "Write a function called `percent_difference` that returns the percent difference as calculated from the following formula:\n",
    "\n",
    "$$\\frac{|\\ value1 - value2\\ |}{\\frac{value1 + value2}{2}}$$\n",
    "\n",
    "In the numerator is the absolute value (use `abs()`) of the two values subtracted from each other. In the denominator is the average of the two values (value1 + value2 divided by two)."
   ]
  },
  {
   "cell_type": "code",
   "execution_count": 78,
   "metadata": {},
   "outputs": [
    {
     "name": "stdout",
     "output_type": "stream",
     "text": [
      "1.0630422209369579\n",
      "0.3283968900407256\n",
      "0.035357417371252836\n",
      "22.066666666666666\n",
      "6.75\n",
      "15.842105263157896\n",
      "21.3\n"
     ]
    }
   ],
   "source": [
    "def percent_difference(value1, value2):\n",
    "    numerator = abs(value1 - value2)\n",
    "    denom = (value1 + value2)/2\n",
    "    return numerator / denom\n",
    "    \n",
    "print(percent_difference(murderer_sample.average_sentence_length,myrtle_sample.average_sentence_length))\n",
    "print(percent_difference(murderer_sample.average_sentence_length,lily_sample.average_sentence_length))\n",
    "print(percent_difference(murderer_sample.average_sentence_length,gregg_sample.average_sentence_length))\n",
    "\n",
    "print(murderer_sample.average_sentence_length)\n",
    "print(myrtle_sample.average_sentence_length)\n",
    "print(lily_sample.average_sentence_length)\n",
    "print(gregg_sample.average_sentence_length)"
   ]
  },
  {
   "cell_type": "markdown",
   "metadata": {},
   "source": [
    "## Scoring Similarity with All Three Indicators\n",
    "\n",
    "We want to figure out who did it, so let's use all three of the indicators we built to score text similarity. Define a function `find_text_similarity` that takes two `TextSample` arguments and returns a float between 0 and 1 where 0 means completely different and 1 means the same exact sample. You can evaluate the similarity by the following criteria:\n",
    "\n",
    "- Calculate the percent difference of their average sentence length using `percent_difference`. Save that into a variable called `sentence_length_difference`. Since we want to find how _similar_ the two passages are calculate the inverse of `sentence_length_difference` by using the formula `abs(1 - sentence_length_difference)`. Save that into a variable called `sentence_length_similarity`.\n",
    "- Calculate the difference between their word usage using `frequency_comparison` on both `TextSample`'s `word_count_frequency` attributes. Save that into a variable called `word_count_similarity`.\n",
    "- Calculate the difference between their two-word ngram using `frequency_comparison` on both `TextSample`'s `ngram_frequency` attributes. Save that into a variable called `ngram_similarity`.\n",
    "- Add all three similarities together and divide by 3."
   ]
  },
  {
   "cell_type": "code",
   "execution_count": 79,
   "metadata": {},
   "outputs": [],
   "source": [
    "def find_text_similarity(sample1, sample2):\n",
    "    sentence_length_difference = percent_difference(sample1.average_sentence_length,sample2.average_sentence_length)\n",
    "    sentence_length_similarity = abs(1 - sentence_length_difference)\n",
    "    \n",
    "    word_count_similarity = frequency_comparison(sample1.word_count_frequency,sample2.word_count_frequency)\n",
    "    \n",
    "    ngram_similarity = frequency_comparison(sample1.ngram_frequency,sample2.ngram_frequency)\n",
    "    \n",
    "    total_score = (sentence_length_similarity + word_count_similarity + ngram_similarity) /3\n",
    "\n",
    "    print(str(sample2.author))\n",
    "    print(\"sentence length similarity = \" + str(round(sentence_length_similarity,2)))\n",
    "    print(\"word count similarity      = \" + str(round(word_count_similarity,2)))\n",
    "    print(\"ngram similarity           = \" + str(round(ngram_similarity,2)))\n",
    "    print(\"total similary score       = \" + str(round(total_score,2)))\n",
    "    print(\"\")\n",
    "    \n",
    "    return total_score"
   ]
  },
  {
   "cell_type": "markdown",
   "metadata": {},
   "source": [
    "## Rendering the Results\n",
    "\n",
    "We want to print out the results in a way that we can read! For each contestant on _A Brand New Jay_ print out the following:\n",
    "\n",
    "- Their name\n",
    "- Their similarity score to the murder letter"
   ]
  },
  {
   "cell_type": "code",
   "execution_count": 80,
   "metadata": {
    "scrolled": false
   },
   "outputs": [
    {
     "name": "stdout",
     "output_type": "stream",
     "text": [
      "Myrtle Beech\n",
      "sentence length similarity = 0.06\n",
      "word count similarity      = 0.17\n",
      "ngram similarity           = 0.01\n",
      "total similary score       = 0.08\n",
      "\n",
      "Lily Trebuchet\n",
      "sentence length similarity = 0.67\n",
      "word count similarity      = 0.23\n",
      "ngram similarity           = 0.06\n",
      "total similary score       = 0.32\n",
      "\n",
      "Gregg T Fishy\n",
      "sentence length similarity = 0.96\n",
      "word count similarity      = 0.16\n",
      "ngram similarity           = 0.02\n",
      "total similary score       = 0.38\n",
      "\n"
     ]
    },
    {
     "data": {
      "text/plain": [
       "0.3821367876934649"
      ]
     },
     "execution_count": 80,
     "metadata": {},
     "output_type": "execute_result"
    }
   ],
   "source": [
    "find_text_similarity(murderer_sample,myrtle_sample)\n",
    "find_text_similarity(murderer_sample,lily_sample)\n",
    "find_text_similarity(murderer_sample,gregg_sample)"
   ]
  },
  {
   "cell_type": "markdown",
   "metadata": {},
   "source": [
    "# Who Dunnit?\n",
    "\n",
    "In the cell below, print the name of the person who killed Jay Stacksby."
   ]
  },
  {
   "cell_type": "code",
   "execution_count": 66,
   "metadata": {},
   "outputs": [
    {
     "name": "stdout",
     "output_type": "stream",
     "text": [
      "Gregg T Fishy\n"
     ]
    }
   ],
   "source": [
    "print(\"Gregg T Fishy\")"
   ]
  },
  {
   "cell_type": "markdown",
   "metadata": {},
   "source": [
    "# Just for fun\n",
    "\n",
    "It occurs to me that there are some serious flaws in the forensic linguistics methodology above. For instance, if sentence length is going to be such a heavily-weighted component in determining the culprit, the original data should be edited for things such as run-on sentences, because *clause* length is actually a more accurate metric.\n",
    "\n",
    "In the cell below, I edited the original murder note and Lily's intro such that run-on sentences occur as two separate clauses."
   ]
  },
  {
   "cell_type": "code",
   "execution_count": 67,
   "metadata": {},
   "outputs": [],
   "source": [
    "murder_note_edited = \"You may call me heartless, a killer, a monster, a murderer, but I'm still NOTHING compared to the villian that Jay was. This whole contest was a sham, an elaborate plot to shame the contestants and feed Jay's massive, massive ego. SURE you think you know him! You've seen him smiling for the cameras, laughing, joking, telling stories, waving his money around like a prop but off camera he was a sinister beast, a cruel cruel taskmaster. He treated all of us like slaves, like cattle, like animals! Do you remember Lindsay? She was the first to go. He called her such horrible things that she cried all night, keeping us all up. Crying, crying, and more crying. He broke her with his words. I miss my former cast members, all of them very much. And we had to live with him, live in his home, live in his power, deal with his crazy demands. AND FOR WHAT! DID YOU KNOW THAT THE PRIZE ISN'T REAL? He never intended to marry one of us! The carrot on the stick was gone. All that was left was stick. He told us last night that we were all a terrible terrible disappointment and none of us would ever amount to anything, and that regardless of who won the contest he would never speak to any of us again! It's definitely the things like this you can feel in your gut how wrong he is! Well I showed him. He got what he deserved all right. I showed him. I showed him the person I am! I wasn't going to be pushed around any longer, and I wasn't going to let him go on pretending that he was some saint when all he was was a sick sick twisted man who deserved every bit of what he got. The fans need to know. Jay Stacksby is a vile amalgamation of all things evil and bad and the world is a better place without him.\"\n",
    "\n",
    "lily_trebuchet_intro_edited = \"Hi, I'm Lily Trebuchet from East Egg, Long Island. I love cats, hiking, and curling up under a warm blanket with a book. So they gave this little questionnaire to use for our bios? So let's get started. What are some of my least favorite household chores? Dishes. Oh yes it's definitely the dishes. I just hate doing them, don't you? Who is your favorite actor and why? Hmm, that's a hard one, but I think recently I'll have to go with Michael B. Jordan. Every bit of that man is handsome, HANDSOME! Do you remember seeing him shirtless? I can't believe what he does for the cameras! Okay okay next question. What is your perfect date? Well it starts with a nice dinner at a delicious but small restaurant. You know, like one of those places where the owner is in the back and comes out to talk to you and ask you how your meal was. My favorite form of art? Another hard one, but I think I'll have to go with music. Music you can feel in your whole body and it is electrifying and best of all, you can dance to it! Okay final question. Let's see. What are three things you cannot live without? Well first off, my beautiful, beautiful cat Jerry, he is my heart and spirit animal. Second is pasta. Definitely pasta. And the third I think is my family. I love all of them very much and they support me in everything I do. I know Jay Stacksby is a handsome man and all of us want to be the first to walk down the aisle with him, but I think he might truly be the one for me. Okay that's it for the bio. I hope you have fun watching the show!\""
   ]
  },
  {
   "cell_type": "markdown",
   "metadata": {},
   "source": [
    "Now, when we enter new TextSample objects based on the edited data, one can build a much stronger case for Lily actually being the murderer, seeing as how she now consistently scores highest in every similarity category! :D"
   ]
  },
  {
   "cell_type": "code",
   "execution_count": 68,
   "metadata": {},
   "outputs": [
    {
     "name": "stdout",
     "output_type": "stream",
     "text": [
      "[\"You may call me heartless, a killer, a monster, a murderer, but I'm still NOTHING compared to the villian that Jay was\", \" This whole contest was a sham, an elaborate plot to shame the contestants and feed Jay's massive, massive ego\", ' SURE you think you know him', \" You've seen him smiling for the cameras, laughing, joking, telling stories, waving his money around like a prop but off camera he was a sinister beast, a cruel cruel taskmaster\", ' He treated all of us like slaves, like cattle, like animals', ' Do you remember Lindsay', ' She was the first to go', ' He called her such horrible things that she cried all night, keeping us all up', ' Crying, crying, and more crying', ' He broke her with his words', ' I miss my former cast members, all of them very much', ' And we had to live with him, live in his home, live in his power, deal with his crazy demands', ' AND FOR WHAT', \" DID YOU KNOW THAT THE PRIZE ISN'T REAL\", ' He never intended to marry one of us', ' The carrot on the stick was gone', ' All that was left was stick', ' He told us last night that we were all a terrible terrible disappointment and none of us would ever amount to anything, and that regardless of who won the contest he would never speak to any of us again', \" It's definitely the things like this you can feel in your gut how wrong he is\", ' Well I showed him', ' He got what he deserved all right', ' I showed him', ' I showed him the person I am', \" I wasn't going to be pushed around any longer, and I wasn't going to let him go on pretending that he was some saint when all he was was a sick sick twisted man who deserved every bit of what he got\", ' The fans need to know', ' Jay Stacksby is a vile amalgamation of all things evil and bad and the world is a better place without him']\n",
      "Author: Murderer (edited)\n",
      "Average sentence length: 12.73076923076923\n",
      "\n",
      "[\"Hi, I'm Lily Trebuchet from East Egg, Long Island\", ' I love cats, hiking, and curling up under a warm blanket with a book', ' So they gave this little questionnaire to use for our bios', \" So let's get started\", ' What are some of my least favorite household chores', ' Dishes', \" Oh yes it's definitely the dishes\", \" I just hate doing them, don't you\", ' Who is your favorite actor and why', \" Hmm, that's a hard one, but I think recently I'll have to go with Michael B\", ' Jordan', ' Every bit of that man is handsome, HANDSOME', ' Do you remember seeing him shirtless', \" I can't believe what he does for the cameras\", ' Okay okay next question', ' What is your perfect date', ' Well it starts with a nice dinner at a delicious but small restaurant', ' You know, like one of those places where the owner is in the back and comes out to talk to you and ask you how your meal was', ' My favorite form of art', \" Another hard one, but I think I'll have to go with music\", ' Music you can feel in your whole body and it is electrifying and best of all, you can dance to it', ' Okay final question', \" Let's see\", ' What are three things you cannot live without', ' Well first off, my beautiful, beautiful cat Jerry, he is my heart and spirit animal', ' Second is pasta', ' Definitely pasta', ' And the third I think is my family', ' I love all of them very much and they support me in everything I do', ' I know Jay Stacksby is a handsome man and all of us want to be the first to walk down the aisle with him, but I think he might truly be the one for me', \" Okay that's it for the bio\", ' I hope you have fun watching the show']\n",
      "Author: Lily Trebuchet (edited)\n",
      "Average sentence length: 9.40625\n",
      "\n",
      "Myrtle Beech\n",
      "sentence length similarity = 0.39\n",
      "word count similarity      = 0.17\n",
      "ngram similarity           = 0.01\n",
      "total similary score       = 0.19\n",
      "\n",
      "Lily Trebuchet (edited)\n",
      "sentence length similarity = 0.7\n",
      "word count similarity      = 0.23\n",
      "ngram similarity           = 0.06\n",
      "total similary score       = 0.33\n",
      "\n",
      "Gregg T Fishy\n",
      "sentence length similarity = 0.5\n",
      "word count similarity      = 0.16\n",
      "ngram similarity           = 0.02\n",
      "total similary score       = 0.23\n",
      "\n"
     ]
    },
    {
     "data": {
      "text/plain": [
       "0.2260503813078728"
      ]
     },
     "execution_count": 68,
     "metadata": {},
     "output_type": "execute_result"
    }
   ],
   "source": [
    "murderer_edited_sample = TextSample(murder_note_edited,\"Murderer (edited)\")\n",
    "print(murderer_edited_sample)\n",
    "\n",
    "lily_edited_sample = TextSample(lily_trebuchet_intro_edited,\"Lily Trebuchet (edited)\")\n",
    "print(lily_edited_sample)\n",
    "\n",
    "find_text_similarity(murderer_edited_sample,myrtle_sample)\n",
    "find_text_similarity(murderer_edited_sample,lily_edited_sample)\n",
    "find_text_similarity(murderer_edited_sample,gregg_sample)"
   ]
  }
 ],
 "metadata": {
  "kernelspec": {
   "display_name": "Python 3",
   "language": "python",
   "name": "python3"
  },
  "language_info": {
   "codemirror_mode": {
    "name": "ipython",
    "version": 3
   },
   "file_extension": ".py",
   "mimetype": "text/x-python",
   "name": "python",
   "nbconvert_exporter": "python",
   "pygments_lexer": "ipython3",
   "version": "3.7.0"
  }
 },
 "nbformat": 4,
 "nbformat_minor": 2
}
